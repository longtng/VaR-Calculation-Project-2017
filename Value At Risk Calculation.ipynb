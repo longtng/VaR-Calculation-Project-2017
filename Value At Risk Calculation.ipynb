{
 "cells": [
  {
   "cell_type": "markdown",
   "metadata": {},
   "source": [
    "# VALUE AT RISK CALCULATION"
   ]
  },
  {
   "cell_type": "markdown",
   "metadata": {},
   "source": [
    "## Abstract"
   ]
  },
  {
   "cell_type": "markdown",
   "metadata": {},
   "source": [
    "Value Risk (VaR) is a statistical technique used to measure and quantify the level of financial risk in a company or investment portfolio for a specific time period. Banks (in particular commercial banks and investment banks) estimate VaR to determine the extent and the ratio of occurrence of potential losses in their portfolio. For companies, this technique can be applied to portfolios in order to measure the risk of the company in their investment strategies. In our project, we analyze the stocks of four technology companies in the United States, including Apple Inc. (AAPL), Alphabet Inc. (GOOG), Microsoft Corporation (MSFT) and International Business Machines Corporation (IBM). The data are collected from daily close prices from December 12th, 2016 to December 12th, 2017."
   ]
  },
  {
   "cell_type": "markdown",
   "metadata": {},
   "source": [
    "## Introduction"
   ]
  },
  {
   "cell_type": "markdown",
   "metadata": {},
   "source": [
    "Our research includes parts. At first, we build the portfolio by using the equal weighted method to check normality of the data. The second, we estimate the Value at Risk (VaR) and the Conditional VaR (CVaR) by using 3 approaches, including Historical method, the mean-variance method and the Monte Carlo simulation method. The third step, we use the Extreme Value Theory to estimate the VaR and CVaR. At the last step, we assume the portfolio follow a power-law distribution and run the data with Monte Carlo simulation.\n",
    "\n",
    "We use R programming language to support for our analysis."
   ]
  },
  {
   "cell_type": "markdown",
   "metadata": {},
   "source": [
    "#### Build an equal weighted portfolio from the last recent year and plot the portfolio value, using a starting portfolio value of 100."
   ]
  },
  {
   "cell_type": "code",
   "execution_count": 1,
   "metadata": {},
   "outputs": [],
   "source": [
    "#Input data\n",
    "idd <- \"1NfuyR8IdCvLHkqb4nsOZhUD75vQzG1Vg\"\n",
    "data <- read.csv(sprintf(\"https://docs.google.com/uc?id=%s&export=download\", idd))"
   ]
  },
  {
   "cell_type": "markdown",
   "metadata": {},
   "source": [
    "The data have 253 rows per stock, each row is the daily close price of the four stocks."
   ]
  },
  {
   "cell_type": "code",
   "execution_count": 2,
   "metadata": {},
   "outputs": [
    {
     "data": {
      "text/html": [
       "<table>\n",
       "<thead><tr><th scope=col>Date</th><th scope=col>AAPL</th><th scope=col>GOOG</th><th scope=col>IBM</th><th scope=col>MSFT</th></tr></thead>\n",
       "<tbody>\n",
       "\t<tr><td>2016-12-12</td><td>111.5069  </td><td>789.27    </td><td>159.3205  </td><td>60.81215  </td></tr>\n",
       "\t<tr><td>2016-12-13</td><td>113.3670  </td><td>796.10    </td><td>162.0063  </td><td>61.60445  </td></tr>\n",
       "\t<tr><td>2016-12-14</td><td>113.3670  </td><td>797.07    </td><td>162.2181  </td><td>61.31101  </td></tr>\n",
       "\t<tr><td>2016-12-15</td><td>113.9870  </td><td>797.85    </td><td>161.7464  </td><td>61.21319  </td></tr>\n",
       "\t<tr><td>2016-12-16</td><td>114.1346  </td><td>790.80    </td><td>160.5046  </td><td>60.93930  </td></tr>\n",
       "\t<tr><td>2016-12-19</td><td>114.7940  </td><td>794.20    </td><td>160.4565  </td><td>62.23048  </td></tr>\n",
       "</tbody>\n",
       "</table>\n"
      ],
      "text/latex": [
       "\\begin{tabular}{r|lllll}\n",
       " Date & AAPL & GOOG & IBM & MSFT\\\\\n",
       "\\hline\n",
       "\t 2016-12-12 & 111.5069   & 789.27     & 159.3205   & 60.81215  \\\\\n",
       "\t 2016-12-13 & 113.3670   & 796.10     & 162.0063   & 61.60445  \\\\\n",
       "\t 2016-12-14 & 113.3670   & 797.07     & 162.2181   & 61.31101  \\\\\n",
       "\t 2016-12-15 & 113.9870   & 797.85     & 161.7464   & 61.21319  \\\\\n",
       "\t 2016-12-16 & 114.1346   & 790.80     & 160.5046   & 60.93930  \\\\\n",
       "\t 2016-12-19 & 114.7940   & 794.20     & 160.4565   & 62.23048  \\\\\n",
       "\\end{tabular}\n"
      ],
      "text/markdown": [
       "\n",
       "| Date | AAPL | GOOG | IBM | MSFT |\n",
       "|---|---|---|---|---|\n",
       "| 2016-12-12 | 111.5069   | 789.27     | 159.3205   | 60.81215   |\n",
       "| 2016-12-13 | 113.3670   | 796.10     | 162.0063   | 61.60445   |\n",
       "| 2016-12-14 | 113.3670   | 797.07     | 162.2181   | 61.31101   |\n",
       "| 2016-12-15 | 113.9870   | 797.85     | 161.7464   | 61.21319   |\n",
       "| 2016-12-16 | 114.1346   | 790.80     | 160.5046   | 60.93930   |\n",
       "| 2016-12-19 | 114.7940   | 794.20     | 160.4565   | 62.23048   |\n",
       "\n"
      ],
      "text/plain": [
       "  Date       AAPL     GOOG   IBM      MSFT    \n",
       "1 2016-12-12 111.5069 789.27 159.3205 60.81215\n",
       "2 2016-12-13 113.3670 796.10 162.0063 61.60445\n",
       "3 2016-12-14 113.3670 797.07 162.2181 61.31101\n",
       "4 2016-12-15 113.9870 797.85 161.7464 61.21319\n",
       "5 2016-12-16 114.1346 790.80 160.5046 60.93930\n",
       "6 2016-12-19 114.7940 794.20 160.4565 62.23048"
      ]
     },
     "metadata": {},
     "output_type": "display_data"
    }
   ],
   "source": [
    "head(data)"
   ]
  },
  {
   "cell_type": "code",
   "execution_count": 3,
   "metadata": {},
   "outputs": [
    {
     "data": {
      "text/html": [
       "<table>\n",
       "<thead><tr><th scope=col>Date</th><th scope=col>AAPL</th><th scope=col>GOOG</th><th scope=col>IBM</th><th scope=col>MSFT</th></tr></thead>\n",
       "<tbody>\n",
       "\t<tr><td>2016-12-12</td><td>111.5069  </td><td>789.27    </td><td>159.3205  </td><td>60.81215  </td></tr>\n",
       "\t<tr><td>2016-12-13</td><td>113.3670  </td><td>796.10    </td><td>162.0063  </td><td>61.60445  </td></tr>\n",
       "\t<tr><td>2016-12-14</td><td>113.3670  </td><td>797.07    </td><td>162.2181  </td><td>61.31101  </td></tr>\n",
       "\t<tr><td>2016-12-15</td><td>113.9870  </td><td>797.85    </td><td>161.7464  </td><td>61.21319  </td></tr>\n",
       "\t<tr><td>2016-12-16</td><td>114.1346  </td><td>790.80    </td><td>160.5046  </td><td>60.93930  </td></tr>\n",
       "\t<tr><td>2016-12-19</td><td>114.7940  </td><td>794.20    </td><td>160.4565  </td><td>62.23048  </td></tr>\n",
       "</tbody>\n",
       "</table>\n"
      ],
      "text/latex": [
       "\\begin{tabular}{r|lllll}\n",
       " Date & AAPL & GOOG & IBM & MSFT\\\\\n",
       "\\hline\n",
       "\t 2016-12-12 & 111.5069   & 789.27     & 159.3205   & 60.81215  \\\\\n",
       "\t 2016-12-13 & 113.3670   & 796.10     & 162.0063   & 61.60445  \\\\\n",
       "\t 2016-12-14 & 113.3670   & 797.07     & 162.2181   & 61.31101  \\\\\n",
       "\t 2016-12-15 & 113.9870   & 797.85     & 161.7464   & 61.21319  \\\\\n",
       "\t 2016-12-16 & 114.1346   & 790.80     & 160.5046   & 60.93930  \\\\\n",
       "\t 2016-12-19 & 114.7940   & 794.20     & 160.4565   & 62.23048  \\\\\n",
       "\\end{tabular}\n"
      ],
      "text/markdown": [
       "\n",
       "| Date | AAPL | GOOG | IBM | MSFT |\n",
       "|---|---|---|---|---|\n",
       "| 2016-12-12 | 111.5069   | 789.27     | 159.3205   | 60.81215   |\n",
       "| 2016-12-13 | 113.3670   | 796.10     | 162.0063   | 61.60445   |\n",
       "| 2016-12-14 | 113.3670   | 797.07     | 162.2181   | 61.31101   |\n",
       "| 2016-12-15 | 113.9870   | 797.85     | 161.7464   | 61.21319   |\n",
       "| 2016-12-16 | 114.1346   | 790.80     | 160.5046   | 60.93930   |\n",
       "| 2016-12-19 | 114.7940   | 794.20     | 160.4565   | 62.23048   |\n",
       "\n"
      ],
      "text/plain": [
       "  Date       AAPL     GOOG   IBM      MSFT    \n",
       "1 2016-12-12 111.5069 789.27 159.3205 60.81215\n",
       "2 2016-12-13 113.3670 796.10 162.0063 61.60445\n",
       "3 2016-12-14 113.3670 797.07 162.2181 61.31101\n",
       "4 2016-12-15 113.9870 797.85 161.7464 61.21319\n",
       "5 2016-12-16 114.1346 790.80 160.5046 60.93930\n",
       "6 2016-12-19 114.7940 794.20 160.4565 62.23048"
      ]
     },
     "metadata": {},
     "output_type": "display_data"
    }
   ],
   "source": [
    "data$Date <- as.Date(data$Date, format=\"%Y-%m-%d\")\n",
    "data <- data[order(data$Date),]\n",
    "head(data)"
   ]
  },
  {
   "cell_type": "code",
   "execution_count": 4,
   "metadata": {},
   "outputs": [],
   "source": [
    "n <- nrow(data)"
   ]
  },
  {
   "cell_type": "markdown",
   "metadata": {},
   "source": [
    "For easy calculation, we change the variables by assigning them to the new variables respectively."
   ]
  },
  {
   "cell_type": "code",
   "execution_count": 5,
   "metadata": {},
   "outputs": [],
   "source": [
    "# 1. BUILD A EQUALLY WEIGHTED PORTFOLIO + PLOT PORTFOLIO VALUE #\n",
    "## Change Variable ##\n",
    "IB <- data$IBM\n",
    "AP <- data$AAPL\n",
    "GG <- data$GOOG\n",
    "MS <- data$MSFT"
   ]
  },
  {
   "cell_type": "markdown",
   "metadata": {},
   "source": [
    "#### Build an equal weighted portfolio from the last recent year and plot the portfolio value, using a starting portfolio value of 100"
   ]
  },
  {
   "cell_type": "markdown",
   "metadata": {},
   "source": [
    "Equal weight is one of three common types of weighting used as a tool for measuring the health of the stock market, including price-weighted average (Dow Jones Industrial Average ‘DJIA’), Market-value weighted (S&P 500, Nasdaq 100, the Wilshire 5000) and Equal weighted applied by the Value Line Index.\n",
    "\n",
    "Equal weight figures the cumulative of the arithmetic average of the percentage changes in price for all stocks in the index. It means that investing the same amount of money in each stock, then rebalancing each period.\n",
    "\n",
    "For the Equal Weight Index, our Index begins with shares in each of N stocks according to:\n",
    "\n",
    "Stock-Shares: $S_k(0) = \\frac{A/N}{P_k(0)}$ \n",
    "\n",
    "Stock-Value: $V_k(0) = \\frac{k}{N}$\n",
    "\n",
    "Index-Value: $V(0) = \\sum{V_k(0) = A^*}$\n",
    "\n",
    "where $P_1(0), P_2(0), ... P_N(0)$, denote the $N$ stock prices at time $= 0$ and $A$ denote the initial value of the portfolio.\n",
    "\n",
    "If the prices of the $N$ stocks change from day to day or month to month (meaning time $= 0$ to time $= 1$ etc.) from $P(0)$ to P$(1)$, for example, the value of each component changes too, according to:\n",
    "\n",
    "Stock - value: $V_k(1) = \\frac{(A/N)P_K(1)}{P_K(0)}$ : multiplying the number of shares by the new stock price, and the total value of portfolio changes to:\n",
    "\n",
    "Index-Value: $V(1) = \\sum{V_k(1)} = (A/N)\\sum{\\frac{P_k(1)}{P_K(0)}}$"
   ]
  },
  {
   "cell_type": "markdown",
   "metadata": {},
   "source": [
    "The below histogram shows the density of the portfolio value by the equal weighted method. We can see that the shape of the graph does not follow the Normal Distribution."
   ]
  },
  {
   "cell_type": "markdown",
   "metadata": {},
   "source": [
    "At first, we initialize the initial portfolio value and the weighted value. The initial value of portfolio is 100 and the weighted value of stocks is equal and equal to 25."
   ]
  },
  {
   "cell_type": "code",
   "execution_count": 7,
   "metadata": {},
   "outputs": [],
   "source": [
    "## Initial Portfolio Value + Weight ##\n",
    "PVO <- c(100)\n",
    "KIB <- c(25/IB[1])\n",
    "KAP <- c(25/AP[1])\n",
    "KGG <- c(25/GG[1])\n",
    "KMS <- c(25/MS[1])"
   ]
  },
  {
   "cell_type": "markdown",
   "metadata": {},
   "source": [
    "Then we calculate the value of the portfolio in the second day when the price of stocks has been changed. At this time we rebalance the weights of portfolio to maintain 25% in each of the four stocks."
   ]
  },
  {
   "cell_type": "code",
   "execution_count": 8,
   "metadata": {},
   "outputs": [],
   "source": [
    "## Portfolio + Weight ##\n",
    "for (i in 2:n) {\n",
    "  #Calculate Portfolio Value#   \n",
    "    PVO[i] <- KIB[i-1]*IB[i]+KAP[i-1]*AP[i]+KGG[i-1]*GG[i]+KMS[i-1]*MS[i]\n",
    "  #Rebalance Portfolio#     \n",
    "    KIB[i] <- PVO[i]/(4*IB[i])\n",
    "    KAP[i] <- PVO[i]/(4*AP[i])\n",
    "    KGG[i] <- PVO[i]/(4*GG[i])\n",
    "    KMS[i] <- PVO[i]/(4*MS[i])\n",
    "}"
   ]
  },
  {
   "cell_type": "code",
   "execution_count": 9,
   "metadata": {},
   "outputs": [
    {
     "data": {
      "image/png": "[encoded data removed]",
      "text/plain": [
       "Plot with title “Histogram of PVO”"
      ]
     },
     "metadata": {},
     "output_type": "display_data"
    }
   ],
   "source": [
    "options(repr.plot.width = 5, repr.plot.height = 3) #set up ploting size\n",
    "hist(PVO, 253)"
   ]
  },
  {
   "cell_type": "markdown",
   "metadata": {},
   "source": [
    "Conducting this step we can calculate the values the portfolio for the other days later. Figure 2: The portfolio value by the equal weighted method"
   ]
  },
  {
   "cell_type": "code",
   "execution_count": 10,
   "metadata": {},
   "outputs": [
    {
     "data": {
      "image/png": "[encoded data removed]",
      "text/plain": [
       "Plot with title “Histogram of PV”"
      ]
     },
     "metadata": {},
     "output_type": "display_data"
    }
   ],
   "source": [
    "## Portfolio Return ##\n",
    "PV <- PVO\n",
    "PV[1] <- 0\n",
    "PV[2:n] <- (PVO[2:n]-PVO[1:(n-1)])*(-1)\n",
    "hist(PV,253)"
   ]
  },
  {
   "cell_type": "markdown",
   "metadata": {},
   "source": [
    "The above histogram shows the value of the portfolio follow the Normal Distribution. We can see that the shape has a long right tail, it means that the distribution is skewed and the mean of the portfolio is also skewed to the right."
   ]
  },
  {
   "cell_type": "markdown",
   "metadata": {},
   "source": [
    "#### Calculate VaR and CVaR of the portfolio"
   ]
  },
  {
   "cell_type": "markdown",
   "metadata": {},
   "source": [
    "There are three primary methods used for calculating Value at Risk (VaR), including the Historical simulation method, the Mean Variance method and the Monte Carlo simulation method. Choosing to use any method which depends on the data and the computational techniques.\n",
    "\n",
    "In general, to specify the value at risk metric, we must identity three things:\n",
    "\n",
    "- The period of time over which a possible loss will be calculated. This is called the value at risk horizon. In our research, the value at risk horizon is one trading day.\n",
    "\n",
    "- A quantile of that possible loss or the confidence level. For instances, the value at risk of the portfolio is expressed as a 0.99 quantile of loss.\n",
    "\n",
    "- The currency in which the possible loss is denominated. This is called the base currency. In our research, the base currency is USD"
   ]
  },
  {
   "cell_type": "markdown",
   "metadata": {},
   "source": [
    "#### The Historical method"
   ]
  },
  {
   "cell_type": "code",
   "execution_count": 11,
   "metadata": {},
   "outputs": [],
   "source": [
    "# 2. CALCULATE VaR, CVaR USING HISTORICAL, MEAN-VARIANCE, MONTE CARLO METHODS#\n",
    "## Historical Method ##\n",
    "alpha_historical <- 0.99\n",
    "PV_historical <- PV[order(PV,decreasing = FALSE)]\n",
    "m_historical <- ceiling(n*(1-alpha_historical))\n",
    "VAR_historical <- PV_historical[m_historical]\n",
    "ES_historical <- mean(PV_historical[PV_historical<VAR_historical])"
   ]
  },
  {
   "cell_type": "code",
   "execution_count": 12,
   "metadata": {},
   "outputs": [
    {
     "data": {
      "text/html": [
       "0.99"
      ],
      "text/latex": [
       "0.99"
      ],
      "text/markdown": [
       "0.99"
      ],
      "text/plain": [
       "[1] 0.99"
      ]
     },
     "metadata": {},
     "output_type": "display_data"
    },
    {
     "data": {
      "text/html": [
       "3"
      ],
      "text/latex": [
       "3"
      ],
      "text/markdown": [
       "3"
      ],
      "text/plain": [
       "[1] 3"
      ]
     },
     "metadata": {},
     "output_type": "display_data"
    },
    {
     "data": {
      "text/html": [
       "-1.85105200746605"
      ],
      "text/latex": [
       "-1.85105200746605"
      ],
      "text/markdown": [
       "-1.85105200746605"
      ],
      "text/plain": [
       "[1] -1.851052"
      ]
     },
     "metadata": {},
     "output_type": "display_data"
    },
    {
     "data": {
      "text/html": [
       "-3.53978268663974"
      ],
      "text/latex": [
       "-3.53978268663974"
      ],
      "text/markdown": [
       "-3.53978268663974"
      ],
      "text/plain": [
       "[1] -3.539783"
      ]
     },
     "metadata": {},
     "output_type": "display_data"
    }
   ],
   "source": [
    "alpha_historical\n",
    "m_historical\n",
    "VAR_historical\n",
    "ES_historical"
   ]
  },
  {
   "cell_type": "markdown",
   "metadata": {},
   "source": [
    "#### The Variance-covariance method"
   ]
  },
  {
   "cell_type": "code",
   "execution_count": 13,
   "metadata": {},
   "outputs": [],
   "source": [
    "## Mean-Variance Method ##\n",
    "alpha_meanvar <- 0.99\n",
    "mu_meanvar <- mean(PV)\n",
    "sigma_meanvar <- sd(PV)\n",
    "VAR_meanvar <- mu_meanvar-2.33*sigma_meanvar\n",
    "ES_meanvar <- mu_meanvar-sigma_meanvar*(exp(-2.33^2/2)/(sqrt(2*pi)*(1-alpha_meanvar)))"
   ]
  },
  {
   "cell_type": "code",
   "execution_count": 14,
   "metadata": {},
   "outputs": [
    {
     "data": {
      "text/html": [
       "0.99"
      ],
      "text/latex": [
       "0.99"
      ],
      "text/markdown": [
       "0.99"
      ],
      "text/plain": [
       "[1] 0.99"
      ]
     },
     "metadata": {},
     "output_type": "display_data"
    },
    {
     "data": {
      "text/html": [
       "-0.119919873698321"
      ],
      "text/latex": [
       "-0.119919873698321"
      ],
      "text/markdown": [
       "-0.119919873698321"
      ],
      "text/plain": [
       "[1] -0.1199199"
      ]
     },
     "metadata": {},
     "output_type": "display_data"
    },
    {
     "data": {
      "text/html": [
       "0.783743764031044"
      ],
      "text/latex": [
       "0.783743764031044"
      ],
      "text/markdown": [
       "0.783743764031044"
      ],
      "text/plain": [
       "[1] 0.7837438"
      ]
     },
     "metadata": {},
     "output_type": "display_data"
    },
    {
     "data": {
      "text/html": [
       "-1.94604284389065"
      ],
      "text/latex": [
       "-1.94604284389065"
      ],
      "text/markdown": [
       "-1.94604284389065"
      ],
      "text/plain": [
       "[1] -1.946043"
      ]
     },
     "metadata": {},
     "output_type": "display_data"
    },
    {
     "data": {
      "text/html": [
       "-2.19107919507189"
      ],
      "text/latex": [
       "-2.19107919507189"
      ],
      "text/markdown": [
       "-2.19107919507189"
      ],
      "text/plain": [
       "[1] -2.191079"
      ]
     },
     "metadata": {},
     "output_type": "display_data"
    }
   ],
   "source": [
    "alpha_meanvar\n",
    "mu_meanvar\n",
    "sigma_meanvar\n",
    "VAR_meanvar\n",
    "ES_meanvar"
   ]
  },
  {
   "cell_type": "markdown",
   "metadata": {},
   "source": [
    "#### The Monte Carlo simulation method"
   ]
  },
  {
   "cell_type": "markdown",
   "metadata": {},
   "source": [
    "This method involves building the model for future stock price returns and running multiple hypothetical trials through the model by using the past events to model what might happen in the future. This concept is the basis of the Monte Carlo simulation method of calculating VaR."
   ]
  },
  {
   "cell_type": "code",
   "execution_count": 15,
   "metadata": {},
   "outputs": [],
   "source": [
    "## Monte Carlo Method ##\n",
    "alpha_MC <- 0.99\n",
    "mu_MC <- mean(PV)\n",
    "sigma_MC <- sd(PV)\n",
    "N <- 100000\n",
    "X_prime <- rnorm(N,mu_MC,sigma_MC)\n",
    "PV_MC <- X_prime[order(X_prime,decreasing=FALSE)]\n",
    "m_MC <- ceiling(N*(1-alpha_MC))\n",
    "VAR_MC <- PV_MC[m_MC]\n",
    "ES_MC <- mean(PV_MC[PV_MC<VAR_MC])"
   ]
  },
  {
   "cell_type": "code",
   "execution_count": 16,
   "metadata": {},
   "outputs": [
    {
     "data": {
      "text/html": [
       "0.99"
      ],
      "text/latex": [
       "0.99"
      ],
      "text/markdown": [
       "0.99"
      ],
      "text/plain": [
       "[1] 0.99"
      ]
     },
     "metadata": {},
     "output_type": "display_data"
    },
    {
     "data": {
      "text/html": [
       "-0.119919873698321"
      ],
      "text/latex": [
       "-0.119919873698321"
      ],
      "text/markdown": [
       "-0.119919873698321"
      ],
      "text/plain": [
       "[1] -0.1199199"
      ]
     },
     "metadata": {},
     "output_type": "display_data"
    },
    {
     "data": {
      "text/html": [
       "0.783743764031044"
      ],
      "text/latex": [
       "0.783743764031044"
      ],
      "text/markdown": [
       "0.783743764031044"
      ],
      "text/plain": [
       "[1] 0.7837438"
      ]
     },
     "metadata": {},
     "output_type": "display_data"
    },
    {
     "data": {
      "text/html": [
       "1e+05"
      ],
      "text/latex": [
       "1e+05"
      ],
      "text/markdown": [
       "1e+05"
      ],
      "text/plain": [
       "[1] 1e+05"
      ]
     },
     "metadata": {},
     "output_type": "display_data"
    },
    {
     "data": {
      "text/html": [
       "1001"
      ],
      "text/latex": [
       "1001"
      ],
      "text/markdown": [
       "1001"
      ],
      "text/plain": [
       "[1] 1001"
      ]
     },
     "metadata": {},
     "output_type": "display_data"
    },
    {
     "data": {
      "text/html": [
       "-1.94071343825322"
      ],
      "text/latex": [
       "-1.94071343825322"
      ],
      "text/markdown": [
       "-1.94071343825322"
      ],
      "text/plain": [
       "[1] -1.940713"
      ]
     },
     "metadata": {},
     "output_type": "display_data"
    },
    {
     "data": {
      "text/html": [
       "-2.20190219131603"
      ],
      "text/latex": [
       "-2.20190219131603"
      ],
      "text/markdown": [
       "-2.20190219131603"
      ],
      "text/plain": [
       "[1] -2.201902"
      ]
     },
     "metadata": {},
     "output_type": "display_data"
    }
   ],
   "source": [
    "alpha_MC\n",
    "mu_MC\n",
    "sigma_MC\n",
    "N\n",
    "m_MC\n",
    "VAR_MC\n",
    "ES_MC"
   ]
  },
  {
   "cell_type": "markdown",
   "metadata": {},
   "source": [
    "Conditional VaR (CVaR) or Expected shortfall is the expected loss given that the returns are already below the pre-specified worst case scenario. Expected shortfall, like VAR, is a function of two parameters: N (the time horizon in days) and X% (the confidence level). It is the expected loss during an N-day period, conditional that the loss is greater than the Xth percentile of the loss distribution.("
   ]
  },
  {
   "cell_type": "markdown",
   "metadata": {},
   "source": [
    "#### Compare the results of three approaches"
   ]
  },
  {
   "cell_type": "markdown",
   "metadata": {},
   "source": [
    "The value of VaR using three different approaches with the confidence of 99%. We can realize that the VaR of the historical simulation is higher than the two other two methods, because the price changes do not perfectly follow the normal distribution. The Monte Carlo method basically samples from the mean variance method, so the results will be similar to the values of the mean variance method. Of course, if the sampling was repeated for more than 100000 times, the resulting value would be closer to the value of the mean variance. The absolute value of CVar of the historical method is higher than the other two method. It means that the highest loss which may happen at 99% confidence is 3.539 USD."
   ]
  },
  {
   "cell_type": "code",
   "execution_count": 17,
   "metadata": {},
   "outputs": [
    {
     "name": "stdout",
     "output_type": "stream",
     "text": [
      "[1] \"Historical simulation\"\n"
     ]
    },
    {
     "data": {
      "text/html": [
       "-1.85105200746605"
      ],
      "text/latex": [
       "-1.85105200746605"
      ],
      "text/markdown": [
       "-1.85105200746605"
      ],
      "text/plain": [
       "[1] -1.851052"
      ]
     },
     "metadata": {},
     "output_type": "display_data"
    },
    {
     "data": {
      "text/html": [
       "-3.53978268663974"
      ],
      "text/latex": [
       "-3.53978268663974"
      ],
      "text/markdown": [
       "-3.53978268663974"
      ],
      "text/plain": [
       "[1] -3.539783"
      ]
     },
     "metadata": {},
     "output_type": "display_data"
    },
    {
     "name": "stdout",
     "output_type": "stream",
     "text": [
      "[1] \"Mean Variance\"\n"
     ]
    },
    {
     "data": {
      "text/html": [
       "-1.94604284389065"
      ],
      "text/latex": [
       "-1.94604284389065"
      ],
      "text/markdown": [
       "-1.94604284389065"
      ],
      "text/plain": [
       "[1] -1.946043"
      ]
     },
     "metadata": {},
     "output_type": "display_data"
    },
    {
     "data": {
      "text/html": [
       "-2.19107919507189"
      ],
      "text/latex": [
       "-2.19107919507189"
      ],
      "text/markdown": [
       "-2.19107919507189"
      ],
      "text/plain": [
       "[1] -2.191079"
      ]
     },
     "metadata": {},
     "output_type": "display_data"
    },
    {
     "name": "stdout",
     "output_type": "stream",
     "text": [
      "[1] \"Monte Carlo\"\n"
     ]
    },
    {
     "data": {
      "text/html": [
       "-1.94071343825322"
      ],
      "text/latex": [
       "-1.94071343825322"
      ],
      "text/markdown": [
       "-1.94071343825322"
      ],
      "text/plain": [
       "[1] -1.940713"
      ]
     },
     "metadata": {},
     "output_type": "display_data"
    },
    {
     "data": {
      "text/html": [
       "-2.20190219131603"
      ],
      "text/latex": [
       "-2.20190219131603"
      ],
      "text/markdown": [
       "-2.20190219131603"
      ],
      "text/plain": [
       "[1] -2.201902"
      ]
     },
     "metadata": {},
     "output_type": "display_data"
    }
   ],
   "source": [
    "print(\"Historical simulation\")\n",
    "VAR_historical\n",
    "ES_historical\n",
    "print(\"Mean Variance\")\n",
    "VAR_meanvar\n",
    "ES_meanvar\n",
    "print(\"Monte Carlo\")\n",
    "VAR_MC\n",
    "ES_MC"
   ]
  },
  {
   "cell_type": "markdown",
   "metadata": {},
   "source": [
    "#### Estimate VaR and CVaR of the portfolio by using the Extreme-Value-Theory"
   ]
  },
  {
   "cell_type": "markdown",
   "metadata": {},
   "source": [
    "Extreme-Value-Theory (EVT) is used to study extreme risks on large portfolios of individual contracts and to predict the occurrence and size of extreme losses."
   ]
  },
  {
   "cell_type": "markdown",
   "metadata": {},
   "source": [
    "#### The Key Result"
   ]
  },
  {
   "cell_type": "markdown",
   "metadata": {},
   "source": [
    "The key result in EVT shows that the tails of a wide range of different probability distributions share common properties.\n",
    "\n",
    "Suppose that $F(v)$ is the cumulative distribution function for a variable $v$ and that $u$ is a value of $v$ in the right-hand tail of the distribution. The probability that $v$ lies between $u$ and $u + y (y > 0)$ is $F(u + y) − F(u)$. The probability that $v$ is greater than $u$ is $1 − F(u)$. Define Fu(y) as the probability that v lies between $u$ and $u + y$ conditional on $v > u$. This is $$F_u(y) = \\frac{F(u+y)-F(u)}{1-F(u)}$$"
   ]
  },
  {
   "cell_type": "markdown",
   "metadata": {},
   "source": [
    "The variable $Fu(y)$ defines the right tail of the probability distribution. It is the cumulative probability distribution for the amount by which v exceeds u given that it does exceed $u$.\n",
    "\n",
    "For a wide class of distributions $F(v)$, the distribution of $Fu(y)$ converges to a generalized Pareto distribution as the threshold $u$ is increased. The generalized Pareto (cumulative) distribution is \n",
    "$$G_{\\xi,\\beta}(y) = 1- (1 + \\xi\\frac{y}{\\beta})^{-1}$$.\n",
    "\n",
    "The distribution has two parameters that have to be estimated from the data. These are $\\xi$ and $\\beta$. The parameter $\\xi$ is the shape parameter and determines the heaviness of the tail of the distribution. The parameter $\\beta$ is a scale parameter. For most financial data, $\\xi$ is positive and in the range 0.1 to 0.4."
   ]
  },
  {
   "cell_type": "markdown",
   "metadata": {},
   "source": [
    "#### Estimating $\\xi$ and $\\beta$"
   ]
  },
  {
   "cell_type": "markdown",
   "metadata": {},
   "source": [
    "The parameters $\\xi$ and $\\beta$ can be estimated using maximum likelihood methods. The probability density function, $g_{\\xi,\\beta}(y)$ , is calculated by differentiating $G_{\\xi,\\beta}(y)$ with respect to $y$. It is \n",
    "$$g_{\\xi,\\beta}(y) = \\frac{1}{\\beta}(1 + \\xi\\frac{y}{\\beta})^{-\\frac{1}{\\xi}-1}$$\n",
    "\n"
   ]
  },
  {
   "cell_type": "markdown",
   "metadata": {},
   "source": [
    "We first choose a value for $u$. We then rank the observations on $v$ from the highest to the lowest and focus our attention on those observations for which $v > u$. Suppose there are n u such observations and they are $v_i(1 ≤ i ≤ n_u)$. The likelihood function (assuming that $\\xi \\to 0)$ is \n",
    "\n",
    "$$\\displaystyle\\prod_{i=1}^{n_u}\\frac{1}{\\beta}\\big[1 + \\frac{\\xi(v_i - u)}{\\beta}\\big]^{-\\frac{1}{\\xi}-1}$$.\n",
    "\n",
    "Maximizing this function is the same as maximizing its logarithm:\n",
    "\n",
    "$$ \\displaystyle\\sum_{i=1}^{n_u} ln \\bigg[ \\frac{1}{\\beta}\\big[1 + \\frac{\\xi(v_i - u)}{\\beta}\\big]^{-\\frac{1}{\\xi}-1} \\bigg] $$\n",
    "\n",
    "\n",
    "Standard numerical procedures can be used to nd the values of $\\xi$ and $\\beta$ that maximize this expression."
   ]
  },
  {
   "cell_type": "markdown",
   "metadata": {},
   "source": [
    "#### Estimating the Tail of the Distribution"
   ]
  },
  {
   "cell_type": "markdown",
   "metadata": {},
   "source": [
    "The probability that $v > u + y$ conditional that $v > u$ is $1 − G_{\\xi,\\beta}(y)$ . The probability that $v > u$ is $1 − F(u)$. The unconditional probability that $v > x$ (when $x > u$) is therefore\n",
    "$$ [1 − F (u)][1 − G_{\\xi,\\beta}(x-u)] $$"
   ]
  },
  {
   "cell_type": "markdown",
   "metadata": {},
   "source": [
    "If n is the total number of observations, an estimate of $1 − F(u)$, calculated from the empirical data, is $n_u/n$ . The unconditional probability that $v > x$ is therefore \n",
    "$$ Prob(v>x) = \\frac{n_u}{n} \\big[ 1 − G_{\\xi,\\beta}(x-u) \\big] = \\frac{n_u}{n} \\big[ 1 - \\xi\\frac{x-u}{\\beta}\\big]^{-\\frac{1}{\\xi}} \\quad (1)$$ "
   ]
  },
  {
   "cell_type": "markdown",
   "metadata": {},
   "source": [
    "#### Equivalence to the Power Law"
   ]
  },
  {
   "cell_type": "markdown",
   "metadata": {},
   "source": [
    "If we set $u = \\frac{\\beta}{\\xi}$, equation (1) reduces to\n",
    "$$ Prob(v>x) = \\frac{n_u}{n} \\big[ \\frac{\\xi x}{\\beta} \\big]^{-\\frac{1}{\\xi}} $$\n",
    "This is $Kx^{-\\alpha}$ where $K = \\frac{n_u}{n} \\big[ \\frac{\\xi}{\\beta} \\big]^{-\\frac{1}{\\xi}}$"
   ]
  },
  {
   "cell_type": "markdown",
   "metadata": {},
   "source": [
    "#### The Left Tail"
   ]
  },
  {
   "cell_type": "markdown",
   "metadata": {},
   "source": [
    "For the left tail of the probability distribution, we will work with $− v$ instead of $v$."
   ]
  },
  {
   "cell_type": "markdown",
   "metadata": {},
   "source": [
    "#### Calculation of VaR and ES (CVaR)"
   ]
  },
  {
   "cell_type": "markdown",
   "metadata": {},
   "source": [
    "The VaR with a confidence level of $q$ is given by the equation:\n",
    "$$ VaR = u + \\frac{\\beta}{\\xi}\\Bigg[ \\Big[ \\frac{n}{n_u}(1-q) \\Big]^{-\\xi} -1 \\Bigg] $$"
   ]
  },
  {
   "cell_type": "markdown",
   "metadata": {},
   "source": [
    "The expected shortfall is given by\n",
    "$$ ES = \\frac{VaR + \\beta - \\xi u}{1-\\xi} $$"
   ]
  },
  {
   "cell_type": "markdown",
   "metadata": {},
   "source": [
    "We conduct the steps of calculation by R tools as below. We care to two value of alpha, 99% and 99.9%.\n",
    "- Arrange the portfolio value\n",
    "\n",
    "- Determine the value of u and n u\n",
    "\n",
    "- Define the Likelihood function\n",
    "\n",
    "- Estimate β & ξ\n",
    "\n",
    "- Calculate Var and CVar"
   ]
  },
  {
   "cell_type": "code",
   "execution_count": 18,
   "metadata": {},
   "outputs": [],
   "source": [
    "# 3. CALCULATE VaR, CVaR USING EXTREME VALUE THEORY #\n",
    "alpha_EVT_1 <- 0.99\n",
    "alpha_EVT_2 <- 0.999"
   ]
  },
  {
   "cell_type": "code",
   "execution_count": 19,
   "metadata": {},
   "outputs": [],
   "source": [
    "##alpha = 0.99##\n",
    "## Sort Portfolio Value ##\n",
    "PV_sorted <- PV[order(PV,decreasing=FALSE)]\n",
    "PV_EVTN_1 <- floor(n*0.95)\n",
    "PV_EVT_1 <- PV_sorted[(PV_EVTN_1+1):n]"
   ]
  },
  {
   "cell_type": "code",
   "execution_count": 20,
   "metadata": {},
   "outputs": [],
   "source": [
    "## Determine u and nu ##\n",
    "u <- PV_sorted[PV_EVTN_1]\n",
    "nu <- length(PV_EVT_1)"
   ]
  },
  {
   "cell_type": "code",
   "execution_count": 21,
   "metadata": {},
   "outputs": [],
   "source": [
    "## Define Likelihood function ##\n",
    "LL <- function(beta,xi){\n",
    "    Q <- 0\n",
    "    for (i in 1:nu){\n",
    "        Q <- Q+log((1/beta)*(1+xi*(PV_EVT_1[i]-u)/beta)^(-1/xi-1))\n",
    "        }\n",
    "    return(-Q)\n",
    "}"
   ]
  },
  {
   "cell_type": "code",
   "execution_count": 22,
   "metadata": {},
   "outputs": [],
   "source": [
    "library(stats4)"
   ]
  },
  {
   "cell_type": "code",
   "execution_count": 23,
   "metadata": {},
   "outputs": [],
   "source": [
    "## Estimate beta, xi ##\n",
    "options(warn = -1) \n",
    "#mmllee <- mle(LL,start = list(beta=40,xi=0.3))\n",
    "beta <- 0.9127848\n",
    "xi <- -0.3771784\n",
    "VAR_EVT_1 <- (u+(beta/xi)*(((n/nu)*(1-alpha_EVT_1))^(-xi)-1))\n",
    "ES_EVT_1 <- ((VAR_EVT_1+beta-xi*u)/(1-xi))\n",
    "VAR_EVT_2 <- (u+(beta/xi)*(((n/nu)*(1-alpha_EVT_2))^(-xi)-1))\n",
    "ES_EVT_2 <- ((VAR_EVT_2+beta-xi*u)/(1-xi))"
   ]
  },
  {
   "cell_type": "code",
   "execution_count": 24,
   "metadata": {},
   "outputs": [
    {
     "data": {
      "text/html": [
       "2.21911653198677"
      ],
      "text/latex": [
       "2.21911653198677"
      ],
      "text/markdown": [
       "2.21911653198677"
      ],
      "text/plain": [
       "[1] 2.219117"
      ]
     },
     "metadata": {},
     "output_type": "display_data"
    },
    {
     "data": {
      "text/html": [
       "2.57661252535687"
      ],
      "text/latex": [
       "2.57661252535687"
      ],
      "text/markdown": [
       "2.57661252535687"
      ],
      "text/plain": [
       "[1] 2.576613"
      ]
     },
     "metadata": {},
     "output_type": "display_data"
    },
    {
     "data": {
      "text/html": [
       "2.97673753378365"
      ],
      "text/latex": [
       "2.97673753378365"
      ],
      "text/markdown": [
       "2.97673753378365"
      ],
      "text/plain": [
       "[1] 2.976738"
      ]
     },
     "metadata": {},
     "output_type": "display_data"
    },
    {
     "data": {
      "text/html": [
       "3.12673805869146"
      ],
      "text/latex": [
       "3.12673805869146"
      ],
      "text/markdown": [
       "3.12673805869146"
      ],
      "text/plain": [
       "[1] 3.126738"
      ]
     },
     "metadata": {},
     "output_type": "display_data"
    }
   ],
   "source": [
    "VAR_EVT_1 \n",
    "ES_EVT_1 \n",
    "VAR_EVT_2 \n",
    "ES_EVT_2 "
   ]
  },
  {
   "cell_type": "code",
   "execution_count": 25,
   "metadata": {},
   "outputs": [
    {
     "name": "stdout",
     "output_type": "stream",
     "text": [
      "[1] \"α = 99%:\"\n"
     ]
    },
    {
     "data": {
      "text/html": [
       "240"
      ],
      "text/latex": [
       "240"
      ],
      "text/markdown": [
       "240"
      ],
      "text/plain": [
       "[1] 240"
      ]
     },
     "metadata": {},
     "output_type": "display_data"
    },
    {
     "data": {
      "text/html": [
       "1.1043945864985"
      ],
      "text/latex": [
       "1.1043945864985"
      ],
      "text/markdown": [
       "1.1043945864985"
      ],
      "text/plain": [
       "[1] 1.104395"
      ]
     },
     "metadata": {},
     "output_type": "display_data"
    },
    {
     "data": {
      "text/html": [
       "13"
      ],
      "text/latex": [
       "13"
      ],
      "text/markdown": [
       "13"
      ],
      "text/plain": [
       "[1] 13"
      ]
     },
     "metadata": {},
     "output_type": "display_data"
    },
    {
     "data": {
      "text/html": [
       "2.21911653198677"
      ],
      "text/latex": [
       "2.21911653198677"
      ],
      "text/markdown": [
       "2.21911653198677"
      ],
      "text/plain": [
       "[1] 2.219117"
      ]
     },
     "metadata": {},
     "output_type": "display_data"
    },
    {
     "data": {
      "text/html": [
       "2.57661252535687"
      ],
      "text/latex": [
       "2.57661252535687"
      ],
      "text/markdown": [
       "2.57661252535687"
      ],
      "text/plain": [
       "[1] 2.576613"
      ]
     },
     "metadata": {},
     "output_type": "display_data"
    },
    {
     "name": "stdout",
     "output_type": "stream",
     "text": [
      "[1] \"α = 99.9%:\"\n"
     ]
    },
    {
     "data": {
      "text/html": [
       "2.97673753378365"
      ],
      "text/latex": [
       "2.97673753378365"
      ],
      "text/markdown": [
       "2.97673753378365"
      ],
      "text/plain": [
       "[1] 2.976738"
      ]
     },
     "metadata": {},
     "output_type": "display_data"
    },
    {
     "data": {
      "text/html": [
       "3.12673805869146"
      ],
      "text/latex": [
       "3.12673805869146"
      ],
      "text/markdown": [
       "3.12673805869146"
      ],
      "text/plain": [
       "[1] 3.126738"
      ]
     },
     "metadata": {},
     "output_type": "display_data"
    }
   ],
   "source": [
    "print(\"α = 99%:\")\n",
    "PV_EVTN_1\n",
    "u\n",
    "nu\n",
    "VAR_EVT_1 \n",
    "ES_EVT_1 \n",
    "print(\"α = 99.9%:\")\n",
    "VAR_EVT_2 \n",
    "ES_EVT_2"
   ]
  },
  {
   "cell_type": "markdown",
   "metadata": {},
   "source": [
    "Both of VaR and CVaR of 99.9% is higher than 99%. The reason is the higher the confidence, the higher the accuracy. According to the above result, CVaR and VaR increase with the confidence levels, the CVaR always is greater than VaR."
   ]
  },
  {
   "cell_type": "markdown",
   "metadata": {},
   "source": [
    "#### Fit the distribution with real data & using Monte Carlo to calculate VaR and CVar"
   ]
  },
  {
   "cell_type": "markdown",
   "metadata": {},
   "source": [
    "We do the following steps:\n",
    "\n",
    "- Calculate cc and c\n",
    "\n",
    "- Sort out the data for Normal Distribution (PV_ND) and the Power Law Distribution Left and Right\n",
    "\n",
    "- Estimate the parameters of Normal Distribution and Power-law Distribution\n",
    "\n",
    "- Combine Data\n",
    "\n",
    "- Compute VAR, CVAR"
   ]
  },
  {
   "cell_type": "code",
   "execution_count": 26,
   "metadata": {},
   "outputs": [
    {
     "name": "stderr",
     "output_type": "stream",
     "text": [
      "\n",
      "Attaching package: ‘igraph’\n",
      "\n",
      "The following objects are masked from ‘package:stats’:\n",
      "\n",
      "    decompose, spectrum\n",
      "\n",
      "The following object is masked from ‘package:base’:\n",
      "\n",
      "    union\n",
      "\n",
      "Loading required package: MASS\n",
      "Loading required package: survival\n",
      "Loading required package: npsurv\n",
      "Loading required package: lsei\n"
     ]
    }
   ],
   "source": [
    "## 4. FIT THE DISTRIBUTION WITH REAL DATA & USING MONTE CARLO TO CALCULATE VaR, CVaR ##\n",
    "library(igraph)\n",
    "library(LaplacesDemon)\n",
    "library(fitdistrplus)"
   ]
  },
  {
   "cell_type": "code",
   "execution_count": 27,
   "metadata": {},
   "outputs": [],
   "source": [
    "## Calculate (cc,c)\n",
    "alpha_PLD <- (1-0.95)/2\n",
    "cc <- floor(n*alpha_PLD)+1\n",
    "c <- n-cc"
   ]
  },
  {
   "cell_type": "code",
   "execution_count": 28,
   "metadata": {},
   "outputs": [],
   "source": [
    "## Sort out Data for Normal Distribution (PV_ND) and Power Law Distribution Left and Right (PV_PLDL and PV_PLR) ##\n",
    "PV_ND <- PV_sorted[cc:c]\n",
    "PV_ND_Matrix <- as.matrix(PV_ND) # Convert to Matrix\n",
    "PV_PLD_Left <- PV_sorted[1:(cc-1)]\n",
    "PV_PLD_Right <- PV_sorted[(c+1):n]"
   ]
  },
  {
   "cell_type": "code",
   "execution_count": 29,
   "metadata": {},
   "outputs": [],
   "source": [
    "## Estimate Parameters of Normal Distribution and Power-law Distribution ##\n",
    "# Generate Normal Distribution)\n",
    "f_ND <- apply(PV_ND_Matrix, 2,  fitdist, \"norm\")\n",
    "mu_ND <- -0.1299441\n",
    "sigma_ND <- 0.5924408\n",
    "PV_sim_ND<-rnorm(95000,mu_ND,sigma_ND)\n",
    "# Generate Power Law #\n",
    "PV_sim_PLD_Left <- rgpd(2500,PV_sorted[cc],beta,xi)\n",
    "PV_sim_PLD_Right <- rgpd(2500,PV_sorted[c],beta,xi)"
   ]
  },
  {
   "cell_type": "code",
   "execution_count": 30,
   "metadata": {},
   "outputs": [],
   "source": [
    "## Combine Data ##\n",
    "PVMC <- c(PV_sim_PLD_Left,PV_sim_ND,PV_sim_PLD_Right)"
   ]
  },
  {
   "cell_type": "code",
   "execution_count": 31,
   "metadata": {},
   "outputs": [],
   "source": [
    "## Compute VAR, CVAR ##\n",
    "alpha_NMC <- 0.99\n",
    "PV_NMC <- PVMC[order(PVMC,decreasing = FALSE)]\n",
    "m_NMC <- ceiling(n*(1-alpha_MC))\n",
    "VAR_NMC <- PV_MC[m_MC]\n",
    "ES_NMC <- mean(PV_MC[PV_MC<VAR_MC])"
   ]
  },
  {
   "cell_type": "code",
   "execution_count": 32,
   "metadata": {},
   "outputs": [
    {
     "data": {
      "text/html": [
       "7"
      ],
      "text/latex": [
       "7"
      ],
      "text/markdown": [
       "7"
      ],
      "text/plain": [
       "[1] 7"
      ]
     },
     "metadata": {},
     "output_type": "display_data"
    },
    {
     "data": {
      "text/html": [
       "246"
      ],
      "text/latex": [
       "246"
      ],
      "text/markdown": [
       "246"
      ],
      "text/plain": [
       "[1] 246"
      ]
     },
     "metadata": {},
     "output_type": "display_data"
    },
    {
     "data": {
      "text/html": [
       "3"
      ],
      "text/latex": [
       "3"
      ],
      "text/markdown": [
       "3"
      ],
      "text/plain": [
       "[1] 3"
      ]
     },
     "metadata": {},
     "output_type": "display_data"
    },
    {
     "data": {
      "text/html": [
       "-1.94071343825322"
      ],
      "text/latex": [
       "-1.94071343825322"
      ],
      "text/markdown": [
       "-1.94071343825322"
      ],
      "text/plain": [
       "[1] -1.940713"
      ]
     },
     "metadata": {},
     "output_type": "display_data"
    },
    {
     "data": {
      "text/html": [
       "-2.20190219131603"
      ],
      "text/latex": [
       "-2.20190219131603"
      ],
      "text/markdown": [
       "-2.20190219131603"
      ],
      "text/plain": [
       "[1] -2.201902"
      ]
     },
     "metadata": {},
     "output_type": "display_data"
    }
   ],
   "source": [
    "cc\n",
    "c\n",
    "m_NMC\n",
    "VAR_NMC\n",
    "ES_NMC"
   ]
  },
  {
   "cell_type": "markdown",
   "metadata": {},
   "source": [
    "The CVaR is greater than VaR. The CVaR in this case depend on the parameter of m (m_NMC). In practice, if the value of m is in the range of 3 to 5, the CVaR would be higher than VaR 1.25 to 1.5 times."
   ]
  }
 ],
 "metadata": {
  "kernelspec": {
   "display_name": "R",
   "language": "R",
   "name": "ir"
  },
  "language_info": {
   "codemirror_mode": "r",
   "file_extension": ".r",
   "mimetype": "text/x-r-source",
   "name": "R",
   "pygments_lexer": "r",
   "version": "3.5.2"
  }
 },
 "nbformat": 4,
 "nbformat_minor": 2
}
